{
 "cells": [
  {
   "cell_type": "code",
   "execution_count": 2,
   "metadata": {
    "collapsed": true
   },
   "outputs": [],
   "source": [
    "from jwp.jwcsv import *\n",
    "from jwp.jwcache import *\n",
    "from jwp.jwsoup import *"
   ]
  },
  {
   "cell_type": "code",
   "execution_count": 83,
   "metadata": {
    "collapsed": false
   },
   "outputs": [],
   "source": [
    "SPS = 'http://hitsdailydouble.com/sales_plus_streaming'\n",
    "BAS = 'http://hitsdailydouble.com/building_album_chart'\n",
    "NUM_TWEET = 5  # the number of albums they have art for\n",
    "\n",
    "def get_song_data(link, chart):\n",
    "    soup = get_soup(link)\n",
    "    chart = soup.find('table', 'hits_album_chart')\n",
    "    rows = soup.find_all('tr', {'class': ['hits_album_chart_header_full_alt1', 'hits_album_chart_header_full_alt2']})\n",
    "    releases = []\n",
    "    for row in rows[:5]:\n",
    "        release = {}\n",
    "        release['chart'] = chart\n",
    "        release['rank'] = row.find('td', 'hits_album_chart_lw_full_top').text\n",
    "        release['artist'] = row.find('span','hits_album_chart_item_top_full_details_artist').text\n",
    "        release['release'] = row.find('span', 'hits_album_chart_item_top_dull_details_release').text\n",
    "        label_elem = row.find('td', 'hits_album_chart_item_top_details_full_label')\n",
    "        release['label'] = label_elem.text\n",
    "        release['sales'] = label_elem.nextSibling.text\n",
    "        release['change'] = label_elem.nextSibling.nextSibling.text\n",
    "        releases.append(release)\n",
    "    return releases\n",
    "        \n",
    "def format_tweet(rank, artist, release, label, sales, change, chart):\n",
    "    # special change formatting\n",
    "    change = 'debut' if change == '--' else change\n",
    "    if not any(change.startswith(x) for x in ['-','d']):\n",
    "        change = '+' + change\n",
    "    if chart:\n",
    "    else:\n",
    "        twstr = '*Chart Preview* #'\n",
    "    twstr += rank + ' '\n",
    "    twstr += artist.title() + ', '\n",
    "    twstr += release.title() + ': '\n",
    "    # twstr += label.lower() + '): '\n",
    "    twstr += sales + ' ('\n",
    "    twstr += change + ')'\n",
    "    if len(twstr) > 140:\n",
    "        raise AttributeError('Too long to tweet')\n",
    "    return twstr\n",
    "    "
   ]
  },
  {
   "cell_type": "code",
   "execution_count": 84,
   "metadata": {
    "collapsed": false
   },
   "outputs": [],
   "source": [
    "x = [format_tweet(**song) for song in get_song_data(BAS, None)]\n",
    "y = [format_tweet(**song) for song in get_song_data(BAS, 'streaming')]"
   ]
  },
  {
   "cell_type": "code",
   "execution_count": 85,
   "metadata": {
    "collapsed": false
   },
   "outputs": [
    {
     "data": {
      "text/plain": [
       "['*Chart Preview* #1 Blink-182, California: 170,835 (debut)',\n",
       " \"*Chart Preview* #2 Maxwell, Blacksummers'Night: 58,442 (debut)\",\n",
       " '*Chart Preview* #3 Drake, Views: 39,950 (+70%)',\n",
       " '*Chart Preview* #4 Beyonce, Lemonade: 26,330 (-17%)',\n",
       " \"*Chart Preview* #5 Blake Shelton, If I'M Honest: 20,780 (+59%)\"]"
      ]
     },
     "execution_count": 85,
     "metadata": {},
     "output_type": "execute_result"
    }
   ],
   "source": [
    "x"
   ]
  },
  {
   "cell_type": "code",
   "execution_count": 35,
   "metadata": {
    "collapsed": false
   },
   "outputs": [
    {
     "data": {
      "text/plain": [
       "dict"
      ]
     },
     "execution_count": 35,
     "metadata": {},
     "output_type": "execute_result"
    }
   ],
   "source": [
    "type({'change': '---'})"
   ]
  },
  {
   "cell_type": "code",
   "execution_count": null,
   "metadata": {
    "collapsed": true
   },
   "outputs": [],
   "source": []
  }
 ],
 "metadata": {
  "kernelspec": {
   "display_name": "Python 3",
   "language": "python",
   "name": "python3"
  },
  "language_info": {
   "codemirror_mode": {
    "name": "ipython",
    "version": 3
   },
   "file_extension": ".py",
   "mimetype": "text/x-python",
   "name": "python",
   "nbconvert_exporter": "python",
   "pygments_lexer": "ipython3",
   "version": "3.5.2"
  }
 },
 "nbformat": 4,
 "nbformat_minor": 0
}
